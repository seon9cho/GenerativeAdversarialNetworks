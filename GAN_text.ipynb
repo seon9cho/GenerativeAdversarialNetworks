{
 "cells": [
  {
   "cell_type": "code",
   "execution_count": 1,
   "id": "6d824d88",
   "metadata": {},
   "outputs": [
    {
     "name": "stdout",
     "output_type": "stream",
     "text": [
      "1.13.1+cu117\n"
     ]
    }
   ],
   "source": [
    "import gc\n",
    "import numpy as np\n",
    "from tqdm import tqdm\n",
    "from datetime import datetime\n",
    "from matplotlib import pyplot as plt\n",
    "\n",
    "import torch\n",
    "import torch.nn as nn\n",
    "from torch.utils.data import Dataset, DataLoader\n",
    "import torch.nn.functional as F\n",
    "import torch.optim as optim\n",
    "from torch.autograd import Variable\n",
    "\n",
    "\n",
    "from IPython.core.ultratb import AutoFormattedTB\n",
    "__ITB__ = AutoFormattedTB(mode = 'Verbose',color_scheme='LightBg', tb_offset = 1)\n",
    "\n",
    "assert torch.cuda.is_available() # You need to request a GPU from Runtime > Change Runtime Type\n",
    "print(torch.__version__)"
   ]
  },
  {
   "cell_type": "code",
   "execution_count": 21,
   "id": "2d293d3e",
   "metadata": {},
   "outputs": [],
   "source": [
    "file_path = \"../../data/text_corpora/prepared/eng/toy_data.txt\"\n",
    "with open(file_path, 'r', encoding='utf-8') as f:\n",
    "    file = f.read()\n",
    "    char_set = set(file)\n",
    "    char_set.remove(\"\\n\")\n",
    "    lines = file.strip().lower().split('\\n')\n",
    "    del file\n",
    "    gc.collect()\n",
    "    \n",
    "vocab = sorted(list(char_set))\n",
    "vocab_size = len(vocab) + 3"
   ]
  },
  {
   "cell_type": "code",
   "execution_count": 23,
   "id": "94fcd6cc",
   "metadata": {},
   "outputs": [],
   "source": [
    "PAD = 0\n",
    "SOS = 1\n",
    "EOS = 2\n",
    "\n",
    "def generate_maps(vocab):\n",
    "    char2index = {'<PAD>':PAD, '<SOS>':SOS, '<EOS>':EOS}\n",
    "    index2char = {PAD:'<PAD>', SOS:'<SOS>', EOS:'<EOS>'}\n",
    "    for i, w in enumerate(vocab):\n",
    "        char2index[w] = i + 3\n",
    "        index2char[i+3] = w\n",
    "    return char2index, index2char\n",
    "\n",
    "def sentence2index(s, _map):\n",
    "    out = []\n",
    "    for c in s:\n",
    "        out.append(_map[c])\n",
    "    return out\n",
    "\n",
    "def index2sentence(ind, _map):\n",
    "    out = []\n",
    "    for i in ind:\n",
    "        if i != 0:\n",
    "            out.append(_map[i])\n",
    "    return ''.join(out)\n",
    "\n",
    "def convert_lines(lines, _map, max_len=62):\n",
    "    out = []\n",
    "    for line in lines:\n",
    "        n = len(line)\n",
    "        if n <= max_len:\n",
    "            pad_len = max_len - n\n",
    "            padding = [PAD] * pad_len\n",
    "            out.append([SOS] + sentence2index(line, _map) + [EOS] + padding)\n",
    "    return out\n",
    "\n",
    "class TextDataset(Dataset):\n",
    "    def __init__(self, data):\n",
    "        super(TextDataset, self).__init__()\n",
    "        self.data = data\n",
    "    def __getitem__(self, index):\n",
    "        return self.data[index]\n",
    "    def __len__(self):\n",
    "        return self.data.shape[0]\n",
    "    \n",
    "def ptensor2sentence(p, _map):\n",
    "    ind = torch.argmax(p, dim=-1)\n",
    "    return index2sentence(ind.cpu().numpy().tolist(), _map)\n",
    "\n",
    "# def save_maps(char2index, index2char, name, map_dir=\"../../outputs/maps/\"):\n",
    "#     with open(map_dir + 'char2index_{}.json'.format(name), 'w') as json_file:\n",
    "#         json.dump(char2index, json_file)\n",
    "#     with open(map_dir + 'index2char_{}.json'.format(name), 'w') as json_file:\n",
    "#         json.dump(index2char, json_file)\n",
    "        \n",
    "# def load_maps(name, map_dir=\"../../outputs/maps/\"):\n",
    "#     with open(map_dir + 'char2index_{}.json'.format(name), 'r') as json_file:\n",
    "#         char2index = json.load(json_file)\n",
    "#     with open(map_dir + 'index2char_{}.json'.format(name), 'r') as json_file:\n",
    "#         index2word = json.load(json_file, object_hook=keys2int)\n",
    "#     return char2index, index2char\n"
   ]
  },
  {
   "cell_type": "code",
   "execution_count": 24,
   "id": "38dfa0ce",
   "metadata": {},
   "outputs": [],
   "source": [
    "char2index, index2char = generate_maps(vocab)\n",
    "data = convert_lines(lines, char2index)\n",
    "dataset = TextDataset(torch.LongTensor(data))\n",
    "data_loader = DataLoader(dataset, batch_size=64, shuffle=True)"
   ]
  },
  {
   "cell_type": "code",
   "execution_count": 25,
   "id": "b0863161",
   "metadata": {},
   "outputs": [
    {
     "name": "stdout",
     "output_type": "stream",
     "text": [
      "<SOS>i hate it when i have to sit between two fat guys on a plane .<EOS>\n"
     ]
    }
   ],
   "source": [
    "for batch in data_loader:\n",
    "    s = index2sentence(batch[0].numpy().tolist(), index2char)\n",
    "    print(s)\n",
    "    break"
   ]
  },
  {
   "cell_type": "code",
   "execution_count": 86,
   "id": "c43a09eb",
   "metadata": {},
   "outputs": [],
   "source": [
    "z_dim = 64\n",
    "class Generator(nn.Module):\n",
    "    def __init__(self, vocab_size, input_size=64):\n",
    "        super(Generator, self).__init__()\n",
    "        self.F = 1024\n",
    "        self.num_layers = 5\n",
    "        out_layer_depth = self.F // 2**self.num_layers\n",
    "        self.linear = nn.Linear(input_size, self.F*2)\n",
    "        self.upsample = nn.ModuleList(\\\n",
    "            nn.Upsample(scale_factor=2, \n",
    "            mode=\"nearest\")\n",
    "            for i in range(self.num_layers)\n",
    "        )\n",
    "        #self.pad = nn.ReflectionPad2d(1)\n",
    "        self.convs = nn.ModuleList(nn.Conv1d(self.F//(2**i), \n",
    "                                             self.F//(2**(i+1)), \n",
    "                                             3, stride=1, padding=1) \n",
    "                                   for i in range(self.num_layers))\n",
    "        self.bn = nn.ModuleList(nn.BatchNorm1d(self.F//(2**i)) for i in range(1, self.num_layers+1))\n",
    "        \n",
    "        self.proj = nn.Linear(out_layer_depth, vocab_size)\n",
    "        self.relu = nn.ReLU()\n",
    "    \n",
    "    def forward(self, x):\n",
    "        \n",
    "        b, _ = x.shape\n",
    "        x = self.linear(x)\n",
    "        x = x.reshape(b, self.F, 2)\n",
    "        \n",
    "        for i in range(self.num_layers):\n",
    "            x = self.upsample[i](x)\n",
    "            x = self.relu(self.convs[i](x))\n",
    "            x = self.bn[i](x)\n",
    "        x = self.proj(x.transpose(1, 2))\n",
    "        return F.softmax(x, dim=-1)\n",
    "        print(x.shape)\n",
    "        #x = self.sig(self.conv_out(x))\n",
    "        #return x"
   ]
  },
  {
   "cell_type": "code",
   "execution_count": 87,
   "id": "c27d07da",
   "metadata": {},
   "outputs": [
    {
     "name": "stdout",
     "output_type": "stream",
     "text": [
      "torch.Size([8, 64, 41])\n",
      "ö<SOS><SOS><SOS><SOS>l<EOS>mjjhheeeeeen<EOS>hjjhang<EOS><EOS>onooocja.fqq  xiigcuurééçpp?yn\n",
      "ngggggg<SOS>tttmm.mw.....wwf<SOS>xqqqfsb\"\"\"\"f    c,,?dg\n",
      "emllljjn<EOS>lnnn<SOS><SOS><SOS><SOS><SOS><SOS><SOS><SOS><SOS>mff\"\"hhfffffhfflllwsdd<EOS><EOS><EOS>n<EOS><EOS>t<EOS><EOS>\n",
      "kk<EOS>nkkkyyk<EOS>ú<EOS>wöwpp,,<EOS>,,,ú ,jffааааféqkfkvvvpillkkllkkk?fppppiivv\n",
      "e<EOS>o  pp o?ç??ç?ééééékvvvviiiiiiivvviivvibxxuuuuuummm<SOS>n\n",
      "nçlllll<SOS><SOS>a?af??????ckkcvvvv'v,,,,,,,,,,,,,,,,pdae   аа?ppppkpggo\n",
      "msfffsçççççjqqjqqjjjoaaaaaooaaccaoceeepuz.lmmmmpmmeenssbbi\n",
      "dkk?öwwwööööykllll<SOS><SOS><SOS><SOS><SOS><SOS><SOS><SOS><SOS> bbbö    bbbbrnf<EOS>kkkkk!ffffffpnn\n"
     ]
    },
    {
     "data": {
      "image/png": "[encoded data removed]",
      "text/plain": [
       "<Figure size 640x480 with 1 Axes>"
      ]
     },
     "metadata": {},
     "output_type": "display_data"
    }
   ],
   "source": [
    "z = torch.randn(8, 64)\n",
    "G = Generator(vocab_size)\n",
    "out = G(z)\n",
    "print(out.shape)\n",
    "for yi in out:\n",
    "    print(ptensor2sentence(yi, index2char))\n",
    "plt.imshow(out[0].detach().numpy())\n",
    "plt.show()"
   ]
  },
  {
   "cell_type": "code",
   "execution_count": 96,
   "id": "c83db3f8",
   "metadata": {},
   "outputs": [],
   "source": [
    "class Discriminator(nn.Module):\n",
    "    def __init__(self, vocab_size, F=32, N=5):\n",
    "        super(Discriminator, self).__init__()\n",
    "\n",
    "        F = 32\n",
    "        N = 5\n",
    "        #self.embedder = nn.Embedding(vocab_size, embed_dim, padding_idx=0)\n",
    "        \n",
    "        self.conv_in = nn.Conv1d(vocab_size, F, kernel_size=3, stride=1, padding=1)\n",
    "\n",
    "        self.dsample_list = nn.ModuleList(nn.Conv1d(F*2**i, F*2**i, 2, stride=2) \n",
    "                                          for i in range(N))\n",
    "        self.bn_list = nn.ModuleList(nn.BatchNorm1d(F*2**i) for i in range(N))\n",
    "        self.conv_list = nn.ModuleList(nn.Conv1d(F*2**i, F*2**(i+1), 3, stride=1, padding=1) \n",
    "                                       for i in range(N))\n",
    "        \n",
    "        self.dsample_out = nn.Conv1d(F*2**N, 1, kernel_size=2, stride=2)\n",
    "\n",
    "        self.fc = nn.Linear(2**(5-N), 1)\n",
    "        self.relu = nn.ReLU()\n",
    "        self.leaky = nn.LeakyReLU(negative_slope=0.2)\n",
    "        self.N = N\n",
    "    \n",
    "    def forward(self, x):\n",
    "        b,_,_ = x.shape\n",
    "        #x = self.embedder(x)\n",
    "        x = self.relu(self.conv_in(x.transpose(1, 2)))\n",
    "        for i in range(self.N):\n",
    "            x = self.dsample_list[i](self.leaky(x))\n",
    "            x = self.bn_list[i](x)\n",
    "            x = self.conv_list[i](x)\n",
    "        \n",
    "        x = self.dsample_out(self.leaky(x))\n",
    "        x = self.fc(x.reshape(b, -1))\n",
    "        return x\n",
    "    "
   ]
  },
  {
   "cell_type": "code",
   "execution_count": 89,
   "id": "24bf2505",
   "metadata": {},
   "outputs": [],
   "source": [
    "class LabelSmoothing(nn.Module):\n",
    "    \"Implement label smoothing.\"\n",
    "    def __init__(self, size, padding_idx, smoothing=0.0):\n",
    "        super(LabelSmoothing, self).__init__()\n",
    "        self.padding_idx = padding_idx\n",
    "        self.confidence = 1.0 - smoothing\n",
    "        self.smoothing = smoothing\n",
    "        self.size = size\n",
    "        \n",
    "    def forward(self, x):\n",
    "        smooth_dist = torch.zeros(*x.shape, self.size, device=x.device, dtype=torch.float)\n",
    "        smooth_dist.fill_(self.smoothing / (self.size - 2))\n",
    "        smooth_dist.scatter_(2, x.unsqueeze(2), self.confidence)\n",
    "        smooth_dist[:, :, self.padding_idx] = 0\n",
    "        mask = (x == self.padding_idx).unsqueeze(-1)\n",
    "        smooth_dist = smooth_dist.masked_fill(mask, 0.0)\n",
    "        return smooth_dist\n",
    "    \n",
    "def mask_probs(x, sos_id=SOS, eos_id=EOS, pad_id=PAD):\n",
    "    \"\"\"\n",
    "    x: [batch, seq_len, vocab] probability distribution over vocab\n",
    "    \"\"\"\n",
    "    # Get predicted tokens\n",
    "    preds = x.argmax(dim=-1)  # [batch, seq_len]\n",
    "\n",
    "    # Initialize mask (True = keep, False = zero out)\n",
    "    mask = torch.ones_like(preds, dtype=torch.bool)\n",
    "\n",
    "    for b in range(preds.size(0)):\n",
    "        seq = preds[b]\n",
    "\n",
    "        # Find SOS position\n",
    "        sos_pos = (seq == sos_id).nonzero(as_tuple=True)[0]\n",
    "        if len(sos_pos) > 0:\n",
    "            sos_pos = sos_pos[0].item()\n",
    "            mask[b, :sos_pos] = False  # zero out before SOS\n",
    "\n",
    "        # Find EOS position\n",
    "        eos_pos = (seq == eos_id).nonzero(as_tuple=True)[0]\n",
    "        if len(eos_pos) > 0:\n",
    "            eos_pos = eos_pos[0].item()\n",
    "            mask[b, eos_pos+1:] = False  # zero out after EOS\n",
    "\n",
    "        # Mask PAD tokens\n",
    "        mask[b, seq == pad_id] = False\n",
    "\n",
    "    # Expand mask to [batch, seq_len, vocab]\n",
    "    mask = mask.unsqueeze(-1).expand_as(x)\n",
    "\n",
    "    # Apply mask\n",
    "    return x * mask.float()"
   ]
  },
  {
   "cell_type": "code",
   "execution_count": 90,
   "id": "c08cafd6",
   "metadata": {},
   "outputs": [
    {
     "name": "stdout",
     "output_type": "stream",
     "text": [
      "Original preds: tensor([[2, 1, 4, 4, 3, 3],\n",
      "        [1, 4, 1, 2, 3, 4]])\n",
      "Masked shape: torch.Size([2, 6, 5])\n"
     ]
    }
   ],
   "source": [
    "b, s, v = 2, 6, 5\n",
    "x = torch.rand(b, s, v)\n",
    "x = x / x.sum(-1, keepdim=True)  # normalize so probs sum to 1\n",
    "\n",
    "masked = mask_probs(x)\n",
    "\n",
    "print(\"Original preds:\", x.argmax(-1))\n",
    "print(\"Masked shape:\", masked.shape)"
   ]
  },
  {
   "cell_type": "code",
   "execution_count": 97,
   "id": "52833eb0",
   "metadata": {},
   "outputs": [
    {
     "name": "stdout",
     "output_type": "stream",
     "text": [
      "torch.Size([64, 64, 41])\n",
      "torch.Size([8, 1])\n"
     ]
    }
   ],
   "source": [
    "D = Discriminator(vocab_size)\n",
    "smoothing = LabelSmoothing(vocab_size, 0, smoothing=0.1)\n",
    "print(smoothing(batch).shape)\n",
    "out = D(smoothing(batch))\n",
    "out.shape\n",
    "z = torch.randn(8, 64)\n",
    "G = Generator(vocab_size)\n",
    "y = G(z)\n",
    "out = D(mask_probs(y))\n",
    "print(out.shape)"
   ]
  },
  {
   "cell_type": "code",
   "execution_count": 99,
   "id": "a40cbabe",
   "metadata": {},
   "outputs": [
    {
     "name": "stdout",
     "output_type": "stream",
     "text": [
      "<SOS>tom , i 've got a surprise for you .<EOS>\n"
     ]
    }
   ],
   "source": [
    "s = index2sentence(batch[0].numpy(), index2char)\n",
    "print(s)"
   ]
  },
  {
   "cell_type": "code",
   "execution_count": 100,
   "id": "f31f3c71",
   "metadata": {},
   "outputs": [
    {
     "data": {
      "image/png": "[encoded data removed]",
      "text/plain": [
       "<Figure size 640x480 with 1 Axes>"
      ]
     },
     "metadata": {},
     "output_type": "display_data"
    }
   ],
   "source": [
    "smoothing = LabelSmoothing(vocab_size, 0, smoothing=0.9)\n",
    "smooth_dist = smoothing(batch)\n",
    "plt.imshow(smooth_dist[2])\n",
    "plt.show()"
   ]
  },
  {
   "cell_type": "code",
   "execution_count": 101,
   "id": "97fde50e",
   "metadata": {},
   "outputs": [],
   "source": [
    "beta1 = 0.98\n",
    "beta2 = 0.9\n",
    "lmda = 10\n",
    "n_critic = 3\n",
    "lr = .0005\n",
    "batch_size=64\n",
    "d_embed = 8"
   ]
  },
  {
   "cell_type": "code",
   "execution_count": 102,
   "id": "af167029",
   "metadata": {},
   "outputs": [],
   "source": [
    "class WGAN_gloss(nn.Module):\n",
    "    def __init__(self):\n",
    "        super(WGAN_gloss, self).__init__()\n",
    "\n",
    "    def forward(self, G, D, z):\n",
    "        return -D(mask_probs(G(z)))\n",
    "\n",
    "class WGAN_dloss(nn.Module):\n",
    "    def __init__(self):\n",
    "        super(WGAN_dloss, self).__init__()\n",
    "        self.smoothing = LabelSmoothing(vocab_size, PAD, smoothing=0.1)\n",
    "\n",
    "    def forward(self, G, D, x, z, eps, lmda):\n",
    "        y = mask_probs(G(z))\n",
    "        x = self.smoothing(x)\n",
    "        x_hat = eps*x + (1-eps)*y\n",
    "        x_hat = x_hat.requires_grad_()\n",
    "        confidence = D(x_hat).mean()\n",
    "        grad = torch.autograd.grad(confidence, x_hat, create_graph=True)[0]\n",
    "        L = lmda * (torch.norm(grad, 2) - 1)**2\n",
    "        loss = D(y) - D(x) + L\n",
    "        return loss\n"
   ]
  },
  {
   "cell_type": "code",
   "execution_count": 103,
   "id": "2b1a9d0f",
   "metadata": {},
   "outputs": [],
   "source": [
    "def save_model(G, D, G_optim, D_optim, z_test, texts):\n",
    "    timestamp = datetime.now().strftime(\"%Y-%m-%d-%H-%M\")\n",
    "    model_name = \"gan_text_\" + timestamp\n",
    "\n",
    "    state = {\n",
    "      'gen_model': G.state_dict(),\n",
    "      'disc_model': D.state_dict(),\n",
    "      'gen_optim': G_optim.state_dict(),\n",
    "      'disc_optim': D_optim.state_dict(),\n",
    "      'z_test': z_test\n",
    "    }\n",
    "    torch.save(state, 'output/model/{}.pt'.format(model_name))\n",
    "    torch.save({\n",
    "      'texts': texts\n",
    "    }, 'output/generated/text_{}.pt'.format(model_name))\n",
    "\n",
    "def load_model(model_name):\n",
    "    G = Generator(vocab_size)\n",
    "    G = G.cuda()\n",
    "    D = Discriminator(vocab_size)\n",
    "    D = D.cuda()\n",
    "    G_optim = optim.Adam(G.parameters(), lr=lr, betas=(beta1, beta2))\n",
    "    D_optim = optim.Adam(D.parameters(), lr=lr, betas=(beta1, beta2))\n",
    "\n",
    "    checkpoint = torch.load('output/model/{}.pt'.format(model_name))\n",
    "    G.load_state_dict(checkpoint['gen_model'])\n",
    "    D.load_state_dict(checkpoint['disc_model'])\n",
    "    G_optim.load_state_dict(checkpoint['gen_optim'])\n",
    "    D_optim.load_state_dict(checkpoint['disc_optim'])\n",
    "    z_test = checkpoint['z_test']\n",
    "\n",
    "    return G, D, G_optim, D_optim, z_test\n",
    "\n",
    "def make_model():\n",
    "    G = Generator(vocab_size)\n",
    "    G = G.cuda()\n",
    "    D = Discriminator(vocab_size)\n",
    "    D = D.cuda()\n",
    "    G_optim = optim.Adam(G.parameters(), lr=lr, betas=(beta1, beta2))\n",
    "    D_optim = optim.Adam(D.parameters(), lr=lr, betas=(beta1, beta2))\n",
    "    z_test = torch.randn(8, z_dim).cuda()\n",
    "    return G, D, G_optim, D_optim, z_test"
   ]
  },
  {
   "cell_type": "code",
   "execution_count": 104,
   "id": "33496819",
   "metadata": {},
   "outputs": [
    {
     "name": "stdout",
     "output_type": "stream",
     "text": [
      "tensor(2.6291, device='cuda:0', grad_fn=<MeanBackward0>)\n",
      "tensor(-0.4398, device='cuda:0', grad_fn=<MeanBackward0>)\n"
     ]
    }
   ],
   "source": [
    "G, D, G_optim, D_optim, z_test = make_model()\n",
    "G_obj = WGAN_gloss()\n",
    "D_obj = WGAN_dloss()\n",
    "\n",
    "for batch in data_loader:\n",
    "    x = batch.cuda()\n",
    "    z = torch.randn(batch_size, z_dim).cuda()\n",
    "    eps = np.random.uniform(0,1)\n",
    "    dloss = D_obj(G, D, x, z, eps, lmda).mean()\n",
    "    dloss.backward()\n",
    "    D_optim.step()\n",
    "    print(dloss)\n",
    "    x = batch.cuda()\n",
    "    z = torch.randn(batch_size, z_dim).cuda()\n",
    "    gloss = G_obj(G, D, z).mean()\n",
    "    gloss.backward()\n",
    "    G_optim.step()\n",
    "    print(gloss)\n",
    "    break"
   ]
  },
  {
   "cell_type": "code",
   "execution_count": 105,
   "id": "7c4e96b7",
   "metadata": {},
   "outputs": [],
   "source": [
    "del G, D, G_optim, D_optim, z_test, G_obj, D_obj\n",
    "gc.collect()\n",
    "torch.cuda.empty_cache()"
   ]
  },
  {
   "cell_type": "code",
   "execution_count": null,
   "id": "abe850bc",
   "metadata": {},
   "outputs": [],
   "source": [
    "def scope(dataset, G, D, G_optim, D_optim, z_test):\n",
    "    try:\n",
    "        gc.collect()\n",
    "        torch.cuda.empty_cache()\n",
    "        print(torch.cuda.memory_allocated(0) / 1e9)\n",
    "        \n",
    "        epochs = range(3)\n",
    "        G_obj = WGAN_gloss()\n",
    "        D_obj = WGAN_dloss()\n",
    "        test_texts = []\n",
    "        for e in epochs:\n",
    "            loop = tqdm(total=len(data_loader), position=0, leave=False)\n",
    "            for i, batch in enumerate(data_loader):\n",
    "                try:\n",
    "                    #train discriminator\n",
    "                    #because you want to be able to backprop through the params in discriminator \n",
    "                    for p in D.parameters():\n",
    "                        p.requires_grad = True\n",
    "\n",
    "                    for p in G.parameters():\n",
    "                        p.requires_grad = False\n",
    "\n",
    "                    for n in range(n_critic):\n",
    "                        D_optim.zero_grad()\n",
    "\n",
    "                        # generate noise tensor z\n",
    "                        # calculate disc loss: you will need autograd.grad\n",
    "                        # call dloss.backward() and disc_optim.step()\n",
    "                        x = batch.cuda()\n",
    "                        z = torch.randn(batch_size, z_dim).cuda()\n",
    "                        eps = np.random.uniform(0,1)\n",
    "                        dloss = D_obj(G, D, x, z, eps, lmda).mean()\n",
    "                        dloss.backward()\n",
    "                        D_optim.step()\n",
    "\n",
    "                    #train generator\n",
    "                    for p in D.parameters():\n",
    "                        p.requires_grad = False\n",
    "\n",
    "                    for p in G.parameters():\n",
    "                        p.requires_grad = True\n",
    "\n",
    "                    G_optim.zero_grad()\n",
    "                    # generate noise tensor z\n",
    "                    # calculate loss for G\n",
    "                    # call gloss.backward() and G_optim.step()\n",
    "                    x = batch.cuda()\n",
    "                    z = torch.randn(batch_size, z_dim).cuda()\n",
    "                    gloss = G_obj(G, D, z).mean()\n",
    "                    gloss.backward()\n",
    "                    G_optim.step()\n",
    "                    loop.set_description('epoch:{}, dloss:{:.4f}, gloss:{:.3f}'.format(e, dloss.item(), gloss.item()))\n",
    "                    loop.update(1)\n",
    "                    if i % 100 == 0:\n",
    "                        y = mask_probs(G(z_test))\n",
    "                        y = y.detach().cpu()\n",
    "                        for yi in y:\n",
    "                            print(ptensor2sentence(yi, index2char))\n",
    "                        print()\n",
    "                        test_texts.append(y)\n",
    "                except RuntimeError:\n",
    "                    continue\n",
    "    except:\n",
    "        __ITB__()\n",
    "    finally:\n",
    "        y = G(z_test)\n",
    "        y = y.detach().cpu()\n",
    "        for yi in y:\n",
    "            print(ptensor2sentence(yi, index2char))\n",
    "        test_texts.append(y)\n",
    "        save_model(G, D, G_optim, D_optim, z_test, test_texts)\n",
    "        print(\"Training session has ended or terminated.\")\n",
    "\n",
    "#G, D, G_optim, D_optim, z_test = load_model(\"gan_text_2025-09-26-21-50\")\n",
    "G, D, G_optim, D_optim, z_test = make_model()\n",
    "\n",
    "scope(data_loader, G, D, G_optim, D_optim, z_test)"
   ]
  }
 ],
 "metadata": {
  "kernelspec": {
   "display_name": "base",
   "language": "python",
   "name": "python3"
  },
  "language_info": {
   "codemirror_mode": {
    "name": "ipython",
    "version": 3
   },
   "file_extension": ".py",
   "mimetype": "text/x-python",
   "name": "python",
   "nbconvert_exporter": "python",
   "pygments_lexer": "ipython3",
   "version": "3.7.6"
  }
 },
 "nbformat": 4,
 "nbformat_minor": 5
}
